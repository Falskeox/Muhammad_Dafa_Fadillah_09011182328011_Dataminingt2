{
 "cells": [
  {
   "cell_type": "code",
   "execution_count": 1,
   "id": "1fed9596-26cc-4e1f-9303-b527878dfaf3",
   "metadata": {},
   "outputs": [],
   "source": [
    "import pandas as pd\n",
    "import numpy as np\n",
    "import seaborn as sns\n",
    "import matplotlib.pyplot as plt\n",
    "from scipy.stats import skew, kurtosis, mode\n",
    "from tabulate import tabulate\n",
    "from sklearn.preprocessing import StandardScaler, LabelEncoder"
   ]
  },
  {
   "cell_type": "code",
   "execution_count": 2,
   "id": "82b73b60-d5db-4228-8788-e4891b947c8a",
   "metadata": {},
   "outputs": [],
   "source": [
    "df = pd.read_csv('D:/Semester 3/Data Mining/heart_disease_uci.csv')"
   ]
  },
  {
   "cell_type": "code",
   "execution_count": 3,
   "id": "b16c787c-293a-4e0c-9cf3-4a5a7e4db90b",
   "metadata": {},
   "outputs": [
    {
     "data": {
      "text/plain": [
       "<bound method DataFrame.isnull of       id  age     sex        dataset               cp  trestbps   chol    fbs  \\\n",
       "0      1   63    Male      Cleveland   typical angina     145.0  233.0   True   \n",
       "1      2   67    Male      Cleveland     asymptomatic     160.0  286.0  False   \n",
       "2      3   67    Male      Cleveland     asymptomatic     120.0  229.0  False   \n",
       "3      4   37    Male      Cleveland      non-anginal     130.0  250.0  False   \n",
       "4      5   41  Female      Cleveland  atypical angina     130.0  204.0  False   \n",
       "..   ...  ...     ...            ...              ...       ...    ...    ...   \n",
       "915  916   54  Female  VA Long Beach     asymptomatic     127.0  333.0   True   \n",
       "916  917   62    Male  VA Long Beach   typical angina       NaN  139.0  False   \n",
       "917  918   55    Male  VA Long Beach     asymptomatic     122.0  223.0   True   \n",
       "918  919   58    Male  VA Long Beach     asymptomatic       NaN  385.0   True   \n",
       "919  920   62    Male  VA Long Beach  atypical angina     120.0  254.0  False   \n",
       "\n",
       "              restecg  thalch  exang  oldpeak        slope   ca  \\\n",
       "0      lv hypertrophy   150.0  False      2.3  downsloping  0.0   \n",
       "1      lv hypertrophy   108.0   True      1.5         flat  3.0   \n",
       "2      lv hypertrophy   129.0   True      2.6         flat  2.0   \n",
       "3              normal   187.0  False      3.5  downsloping  0.0   \n",
       "4      lv hypertrophy   172.0  False      1.4    upsloping  0.0   \n",
       "..                ...     ...    ...      ...          ...  ...   \n",
       "915  st-t abnormality   154.0  False      0.0          NaN  NaN   \n",
       "916  st-t abnormality     NaN    NaN      NaN          NaN  NaN   \n",
       "917  st-t abnormality   100.0  False      0.0          NaN  NaN   \n",
       "918    lv hypertrophy     NaN    NaN      NaN          NaN  NaN   \n",
       "919    lv hypertrophy    93.0   True      0.0          NaN  NaN   \n",
       "\n",
       "                  thal  num  \n",
       "0         fixed defect    0  \n",
       "1               normal    2  \n",
       "2    reversable defect    1  \n",
       "3               normal    0  \n",
       "4               normal    0  \n",
       "..                 ...  ...  \n",
       "915                NaN    1  \n",
       "916                NaN    0  \n",
       "917       fixed defect    2  \n",
       "918                NaN    0  \n",
       "919                NaN    1  \n",
       "\n",
       "[920 rows x 16 columns]>"
      ]
     },
     "metadata": {},
     "output_type": "display_data"
    }
   ],
   "source": [
    "display(df.isnull)"
   ]
  },
  {
   "cell_type": "code",
   "execution_count": 4,
   "id": "73496514-b939-4220-9533-44a524a6817b",
   "metadata": {},
   "outputs": [
    {
     "name": "stdout",
     "output_type": "stream",
     "text": [
      "\n",
      "Nilai yang Hilang :\n",
      "--  --------  ---\n",
      " 0  id          0\n",
      " 1  age         0\n",
      " 2  sex         0\n",
      " 3  dataset     0\n",
      " 4  cp          0\n",
      " 5  trestbps   59\n",
      " 6  chol       30\n",
      " 7  fbs        90\n",
      " 8  restecg     2\n",
      " 9  thalch     55\n",
      "10  exang      55\n",
      "11  oldpeak    62\n",
      "12  slope     309\n",
      "13  ca        611\n",
      "14  thal      486\n",
      "15  num         0\n",
      "--  --------  ---\n"
     ]
    }
   ],
   "source": [
    "# 1. Identifikasi Missing Values\n",
    "missing_values=df.isnull().sum().reset_index()\n",
    "missing_values.columns=['column', 'Misiing Values']\n",
    "print ('\\nNilai yang Hilang :')\n",
    "print (tabulate(missing_values) )\n"
   ]
  },
  {
   "cell_type": "code",
   "execution_count": 5,
   "id": "86b17d33-758f-4d1a-9f67-452e5d389d3d",
   "metadata": {},
   "outputs": [
    {
     "name": "stdout",
     "output_type": "stream",
     "text": [
      "Informasi Data:\n",
      "<class 'pandas.core.frame.DataFrame'>\n",
      "RangeIndex: 920 entries, 0 to 919\n",
      "Data columns (total 16 columns):\n",
      " #   Column    Non-Null Count  Dtype  \n",
      "---  ------    --------------  -----  \n",
      " 0   id        920 non-null    int64  \n",
      " 1   age       920 non-null    int64  \n",
      " 2   sex       920 non-null    object \n",
      " 3   dataset   920 non-null    object \n",
      " 4   cp        920 non-null    object \n",
      " 5   trestbps  861 non-null    float64\n",
      " 6   chol      890 non-null    float64\n",
      " 7   fbs       830 non-null    object \n",
      " 8   restecg   918 non-null    object \n",
      " 9   thalch    865 non-null    float64\n",
      " 10  exang     865 non-null    object \n",
      " 11  oldpeak   858 non-null    float64\n",
      " 12  slope     611 non-null    object \n",
      " 13  ca        309 non-null    float64\n",
      " 14  thal      434 non-null    object \n",
      " 15  num       920 non-null    int64  \n",
      "dtypes: float64(5), int64(3), object(8)\n",
      "memory usage: 115.1+ KB\n",
      "None\n",
      "\n",
      "Statistik Deskriptif Awal:\n",
      "               id         age    trestbps        chol      thalch     oldpeak  \\\n",
      "count  920.000000  920.000000  861.000000  890.000000  865.000000  858.000000   \n",
      "mean   460.500000   53.510870  132.132404  199.130337  137.545665    0.878788   \n",
      "std    265.725422    9.424685   19.066070  110.780810   25.926276    1.091226   \n",
      "min      1.000000   28.000000    0.000000    0.000000   60.000000   -2.600000   \n",
      "25%    230.750000   47.000000  120.000000  175.000000  120.000000    0.000000   \n",
      "50%    460.500000   54.000000  130.000000  223.000000  140.000000    0.500000   \n",
      "75%    690.250000   60.000000  140.000000  268.000000  157.000000    1.500000   \n",
      "max    920.000000   77.000000  200.000000  603.000000  202.000000    6.200000   \n",
      "\n",
      "               ca         num  \n",
      "count  309.000000  920.000000  \n",
      "mean     0.676375    0.995652  \n",
      "std      0.935653    1.142693  \n",
      "min      0.000000    0.000000  \n",
      "25%      0.000000    0.000000  \n",
      "50%      0.000000    1.000000  \n",
      "75%      1.000000    2.000000  \n",
      "max      3.000000    4.000000  \n"
     ]
    },
    {
     "name": "stderr",
     "output_type": "stream",
     "text": [
      "C:\\Users\\Dafa\\AppData\\Local\\Temp\\ipykernel_6736\\865718938.py:13: FutureWarning: Downcasting object dtype arrays on .fillna, .ffill, .bfill is deprecated and will change in a future version. Call result.infer_objects(copy=False) instead. To opt-in to the future behavior, set `pd.set_option('future.no_silent_downcasting', True)`\n",
      "  df[categorical_cols] = df[categorical_cols].apply(lambda col: col.fillna(col.mode()[0]))\n"
     ]
    },
    {
     "data": {
      "image/png": "[encoded data removed]",
      "text/plain": [
       "<Figure size 1000x600 with 1 Axes>"
      ]
     },
     "metadata": {},
     "output_type": "display_data"
    },
    {
     "name": "stdout",
     "output_type": "stream",
     "text": [
      "\n",
      "Data Setelah Preprocessing:\n",
      "         id       age  sex  dataset  cp  trestbps      chol    fbs  restecg  \\\n",
      "0 -1.730169  1.007386    1        0   3  0.698041  0.311021   True        0   \n",
      "1 -1.726404  1.432034    1        0   0  1.511761  0.797713  False        0   \n",
      "2 -1.722639  1.432034    1        0   0 -0.658158  0.274289  False        0   \n",
      "3 -1.718873 -1.752828    1        0   2 -0.115679  0.467130  False        1   \n",
      "4 -1.715108 -1.328180    0        0   1 -0.115679  0.044717  False        0   \n",
      "\n",
      "     thalch  exang   oldpeak  slope        ca  thal       num  \n",
      "0  0.495698  False  1.349421      0 -1.249371     0 -0.871794  \n",
      "1 -1.175955   True  0.589832      1  4.292099     1  0.879408  \n",
      "2 -0.340128   True  1.634267      1  2.444942     2  0.003807  \n",
      "3  1.968345  False  2.488805      0 -1.249371     1 -0.871794  \n",
      "4  1.371326  False  0.494884      2 -1.249371     1 -0.871794  \n",
      "\n",
      "Informasi Setelah Preprocessing:\n",
      "<class 'pandas.core.frame.DataFrame'>\n",
      "RangeIndex: 920 entries, 0 to 919\n",
      "Data columns (total 16 columns):\n",
      " #   Column    Non-Null Count  Dtype  \n",
      "---  ------    --------------  -----  \n",
      " 0   id        920 non-null    float64\n",
      " 1   age       920 non-null    float64\n",
      " 2   sex       920 non-null    int32  \n",
      " 3   dataset   920 non-null    int32  \n",
      " 4   cp        920 non-null    int32  \n",
      " 5   trestbps  920 non-null    float64\n",
      " 6   chol      920 non-null    float64\n",
      " 7   fbs       920 non-null    bool   \n",
      " 8   restecg   920 non-null    int32  \n",
      " 9   thalch    920 non-null    float64\n",
      " 10  exang     920 non-null    bool   \n",
      " 11  oldpeak   920 non-null    float64\n",
      " 12  slope     920 non-null    int32  \n",
      " 13  ca        920 non-null    float64\n",
      " 14  thal      920 non-null    int32  \n",
      " 15  num       920 non-null    float64\n",
      "dtypes: bool(2), float64(8), int32(6)\n",
      "memory usage: 81.0 KB\n",
      "None\n"
     ]
    }
   ],
   "source": [
    "print(\"Informasi Data:\")\n",
    "print(df.info())\n",
    "print(\"\\nStatistik Deskriptif Awal:\")\n",
    "print(df.describe())\n",
    "\n",
    "# 2. Menangani Missing Values\n",
    "# Imputasi mean untuk kolom numerik\n",
    "numeric_cols = df.select_dtypes(include=['int64', 'float64']).columns\n",
    "df[numeric_cols] = df[numeric_cols].apply(lambda col: col.fillna(col.mean()))\n",
    "\n",
    "# Imputasi modus untuk kolom kategorikal\n",
    "categorical_cols = df.select_dtypes(include=['object']).columns\n",
    "df[categorical_cols] = df[categorical_cols].apply(lambda col: col.fillna(col.mode()[0]))\n",
    "\n",
    "# 3. Encoding Data Kategorikal\n",
    "# Contoh: Mengubah 'sex' menjadi 0 dan 1\n",
    "df['sex'] = df['sex'].replace({'male': 0, 'female': 1})\n",
    "\n",
    "# Encoding untuk kolom kategorikal lain yang mungkin ada\n",
    "for col in categorical_cols:\n",
    "    if df[col].dtype == 'object':\n",
    "        le = LabelEncoder()\n",
    "        df[col] = le.fit_transform(df[col])\n",
    "\n",
    "# 4. Menangani Outliers\n",
    "# Menampilkan boxplot untuk identifikasi outliers\n",
    "plt.figure(figsize=(10, 6))\n",
    "sns.boxplot(data=df[numeric_cols])\n",
    "plt.title('Boxplot untuk Deteksi Outliers')\n",
    "plt.xticks(rotation=90)\n",
    "plt.show()\n",
    "\n",
    "# Contoh penghapusan outliers jika dibutuhkan (opsional)\n",
    "# df = df[(np.abs(df[numeric_cols] - df[numeric_cols].mean()) <= (3 * df[numeric_cols].std())).all(axis=1)]\n",
    "\n",
    "# 5. Normalisasi Data\n",
    "scaler = StandardScaler()\n",
    "df[numeric_cols] = scaler.fit_transform(df[numeric_cols])\n",
    "\n",
    "# 6. Tampilkan Data Setelah Preprocessing\n",
    "print(\"\\nData Setelah Preprocessing:\")\n",
    "print(df.head())\n",
    "\n",
    "# 7. Memeriksa Informasi Akhir\n",
    "print(\"\\nInformasi Setelah Preprocessing:\")\n",
    "print(df.info())\n",
    "\n",
    "# Imputasi modus untuk kolom kategorikal\n",
    "df[categorical_cols] = df[categorical_cols].apply(lambda col: col.fillna(col.mode()[0]))\n",
    "\n",
    "# Menggunakan infer_objects() untuk memastikan tipe data setelah imputasi\n",
    "df[categorical_cols] = df[categorical_cols].infer_objects(copy=False)"
   ]
  },
  {
   "cell_type": "code",
   "execution_count": 6,
   "id": "9ce89906-cc20-4277-9546-6fa37f50656a",
   "metadata": {},
   "outputs": [
    {
     "name": "stdout",
     "output_type": "stream",
     "text": [
      "Requirement already satisfied: scikit-learn in c:\\users\\dafa\\anaconda3\\lib\\site-packages (1.4.2)\n",
      "Requirement already satisfied: numpy>=1.19.5 in c:\\users\\dafa\\anaconda3\\lib\\site-packages (from scikit-learn) (1.26.4)\n",
      "Requirement already satisfied: scipy>=1.6.0 in c:\\users\\dafa\\anaconda3\\lib\\site-packages (from scikit-learn) (1.13.1)\n",
      "Requirement already satisfied: joblib>=1.2.0 in c:\\users\\dafa\\anaconda3\\lib\\site-packages (from scikit-learn) (1.4.2)\n",
      "Requirement already satisfied: threadpoolctl>=2.0.0 in c:\\users\\dafa\\anaconda3\\lib\\site-packages (from scikit-learn) (2.2.0)\n"
     ]
    }
   ],
   "source": [
    "!pip install scikit-learn"
   ]
  },
  {
   "cell_type": "code",
   "execution_count": 7,
   "id": "784c5a66-d6da-4e72-8bb5-cf4df0f60b25",
   "metadata": {},
   "outputs": [
    {
     "data": {
      "text/plain": [
       "-1.8535897454611308e-16"
      ]
     },
     "execution_count": 7,
     "metadata": {},
     "output_type": "execute_result"
    }
   ],
   "source": [
    "mean_value = df[\"chol\"].mean()\n",
    "mean_value"
   ]
  },
  {
   "cell_type": "code",
   "execution_count": 8,
   "id": "a7589299-076c-4243-b985-88d7ef615de2",
   "metadata": {},
   "outputs": [],
   "source": [
    "df[\"chol\"] = df['chol'].fillna(mean_value)\n",
    "df[\"trestbps\"]=df['trestbps'].fillna(mean_value)\n",
    "df[\"fbs\"]=df['fbs'].fillna(mean_value)\n",
    "df[\"restecg\"]=df['restecg'].fillna(mean_value)\n",
    "df[\"thalch\"]=df['thalch'].fillna(mean_value)\n",
    "df[\"exang\"]=df['exang'].fillna(mean_value)\n",
    "df[\"oldpeak\"]=df['oldpeak'].fillna(mean_value)\n",
    "df[\"slope\"]=df['slope'].fillna(mean_value)\n",
    "df[\"ca\"]=df['ca'].fillna(mean_value)\n",
    "df[\"thal\"]=df['thal'].fillna(mean_value)"
   ]
  },
  {
   "cell_type": "code",
   "execution_count": 9,
   "id": "a2846638-0a1c-4f2c-bacc-8b5bc0f2da9b",
   "metadata": {},
   "outputs": [
    {
     "data": {
      "text/plain": [
       "id          0\n",
       "age         0\n",
       "sex         0\n",
       "dataset     0\n",
       "cp          0\n",
       "trestbps    0\n",
       "chol        0\n",
       "fbs         0\n",
       "restecg     0\n",
       "thalch      0\n",
       "exang       0\n",
       "oldpeak     0\n",
       "slope       0\n",
       "ca          0\n",
       "thal        0\n",
       "num         0\n",
       "dtype: int64"
      ]
     },
     "execution_count": 9,
     "metadata": {},
     "output_type": "execute_result"
    }
   ],
   "source": [
    "df.isnull().sum()"
   ]
  },
  {
   "cell_type": "code",
   "execution_count": 10,
   "id": "c5db948e-0012-4a62-a60e-446515c0b0b6",
   "metadata": {},
   "outputs": [
    {
     "data": {
      "text/plain": [
       "id          0\n",
       "age         0\n",
       "sex         0\n",
       "dataset     0\n",
       "cp          0\n",
       "trestbps    0\n",
       "chol        0\n",
       "fbs         0\n",
       "restecg     0\n",
       "thalch      0\n",
       "exang       0\n",
       "oldpeak     0\n",
       "slope       0\n",
       "ca          0\n",
       "thal        0\n",
       "num         0\n",
       "dtype: int64"
      ]
     },
     "execution_count": 10,
     "metadata": {},
     "output_type": "execute_result"
    }
   ],
   "source": [
    "df1 = df.dropna()\n",
    "df1.isnull().sum()"
   ]
  },
  {
   "cell_type": "code",
   "execution_count": null,
   "id": "46de9576-7b43-4506-ab8b-7a6c7358fe86",
   "metadata": {},
   "outputs": [],
   "source": []
  }
 ],
 "metadata": {
  "kernelspec": {
   "display_name": "Python 3 (ipykernel)",
   "language": "python",
   "name": "python3"
  },
  "language_info": {
   "codemirror_mode": {
    "name": "ipython",
    "version": 3
   },
   "file_extension": ".py",
   "mimetype": "text/x-python",
   "name": "python",
   "nbconvert_exporter": "python",
   "pygments_lexer": "ipython3",
   "version": "3.12.4"
  }
 },
 "nbformat": 4,
 "nbformat_minor": 5
}
